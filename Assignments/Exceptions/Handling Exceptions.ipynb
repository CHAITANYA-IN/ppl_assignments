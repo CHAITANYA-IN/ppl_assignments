{
 "cells": [
  {
   "cell_type": "markdown",
   "metadata": {},
   "source": [
    "This is what I learned about the File Handling and Exception Handling."
   ]
  },
  {
   "cell_type": "markdown",
   "metadata": {},
   "source": [
    "The exceptions can be raised by Pyhton Interpreters or even by users. The exceptions are important to correct any brokendown program.\n",
    "The snippet below opens a non-existing file in read mode:"
   ]
  },
  {
   "cell_type": "code",
   "execution_count": 3,
   "metadata": {},
   "outputs": [
    {
     "ename": "FileNotFoundError",
     "evalue": "[Errno 2] No such file or directory: 'test_file.txt'",
     "output_type": "error",
     "traceback": [
      "\u001b[0;31m---------------------------------------------------------------------------\u001b[0m",
      "\u001b[0;31mFileNotFoundError\u001b[0m                         Traceback (most recent call last)",
      "\u001b[0;32m<ipython-input-3-5fac19176fe6>\u001b[0m in \u001b[0;36m<module>\u001b[0;34m\u001b[0m\n\u001b[0;32m----> 1\u001b[0;31m \u001b[0mf\u001b[0m \u001b[0;34m=\u001b[0m \u001b[0mopen\u001b[0m\u001b[0;34m(\u001b[0m\u001b[0;34m'test_file.txt'\u001b[0m\u001b[0;34m,\u001b[0m \u001b[0;34m'r'\u001b[0m\u001b[0;34m)\u001b[0m\u001b[0;34m\u001b[0m\u001b[0;34m\u001b[0m\u001b[0m\n\u001b[0m",
      "\u001b[0;31mFileNotFoundError\u001b[0m: [Errno 2] No such file or directory: 'test_file.txt'"
     ]
    }
   ],
   "source": [
    "f = open('test_file.txt', 'r')"
   ]
  },
  {
   "cell_type": "markdown",
   "metadata": {},
   "source": [
    "The above code generates error as it is reading a non-existing file. But, if the mode of opening file in program is 'write' then there would be no error raised. open() creates a new file if it does not exist. Check it below. "
   ]
  },
  {
   "cell_type": "code",
   "execution_count": 6,
   "metadata": {},
   "outputs": [],
   "source": [
    "f = open('test_file.txt', 'w')"
   ]
  },
  {
   "cell_type": "markdown",
   "metadata": {},
   "source": [
    "Lets open the file using 'with' keyword, write some text into our test file and read the same."
   ]
  },
  {
   "cell_type": "code",
   "execution_count": 10,
   "metadata": {},
   "outputs": [
    {
     "data": {
      "text/plain": [
       "'This is a text file.'"
      ]
     },
     "execution_count": 10,
     "metadata": {},
     "output_type": "execute_result"
    }
   ],
   "source": [
    "with open('test_file.txt', 'w') as f:\n",
    "    f.write(\"This is a text file.\")\n",
    "    f.close()\n",
    "f = open('test_file.txt', 'r')\n",
    "f.read()"
   ]
  },
  {
   "cell_type": "markdown",
   "metadata": {},
   "source": [
    "Lets focus on exceptions. Python3 provides a try ... except block. Here, the malicious part of code is placed inside the try block. 'except' block is executed when exception is raised or error occurs.\n",
    "Below given snippet is simple example for try-except block:"
   ]
  },
  {
   "cell_type": "code",
   "execution_count": 15,
   "metadata": {},
   "outputs": [],
   "source": [
    "try:\n",
    "    f = open('testfile.txt')\n",
    "except:\n",
    "    print('File not Found.')"
   ]
  },
  {
   "cell_type": "markdown",
   "metadata": {},
   "source": [
    "Lets see another way of writing the same:"
   ]
  },
  {
   "cell_type": "code",
   "execution_count": 16,
   "metadata": {},
   "outputs": [],
   "source": [
    "try:\n",
    "    f = open('testfile.txt')\n",
    "except Exception:\n",
    "    print('File not Found.')"
   ]
  },
  {
   "cell_type": "markdown",
   "metadata": {},
   "source": [
    "You can also print that 'Exception' object. But for that it is to be assigned to a variable. Check down the given snippets:"
   ]
  },
  {
   "cell_type": "code",
   "execution_count": 17,
   "metadata": {},
   "outputs": [],
   "source": [
    "try:\n",
    "    f = open('testfile.txt')\n",
    "except Exception:\n",
    "    print(Exception)"
   ]
  },
  {
   "cell_type": "code",
   "execution_count": 18,
   "metadata": {},
   "outputs": [
    {
     "name": "stdout",
     "output_type": "stream",
     "text": [
      "[Errno 2] No such file or directory: 'testfile.txt'\n"
     ]
    }
   ],
   "source": [
    "try:\n",
    "    f = open('testfile.txt')\n",
    "except Exception as d:\n",
    "    print(d)"
   ]
  },
  {
   "cell_type": "raw",
   "metadata": {},
   "source": [
    "Here, the second snippet clearly describes the exception raised. First one prints the info of 'Exception' class. "
   ]
  },
  {
   "cell_type": "code",
   "execution_count": 3,
   "metadata": {},
   "outputs": [
    {
     "name": "stdout",
     "output_type": "stream",
     "text": [
      "File not Found.\n"
     ]
    }
   ],
   "source": [
    "try:\n",
    "    f = open('test_file.txt')\n",
    "    a = 1/0\n",
    "except:\n",
    "    print('File not Found.')"
   ]
  },
  {
   "cell_type": "markdown",
   "metadata": {},
   "source": [
    "Here, the exception raised is due to the division operation. To be more specific about raising exceptions we should use the name of exceptions as follows:"
   ]
  },
  {
   "cell_type": "code",
   "execution_count": 19,
   "metadata": {},
   "outputs": [
    {
     "name": "stdout",
     "output_type": "stream",
     "text": [
      "No number can be divided by Zero.\n"
     ]
    }
   ],
   "source": [
    "try:\n",
    "    f = open('test_file.txt')\n",
    "    a = 1/0\n",
    "    print(b)\n",
    "except FileNotFoundError:\n",
    "    print('File not Found')\n",
    "except ZeroDivisionError:\n",
    "    print('No number can be divided by Zero.')\n",
    "except Exception:\n",
    "    print('Something went wrong.')"
   ]
  },
  {
   "cell_type": "markdown",
   "metadata": {},
   "source": [
    "The above block corrects the user about raised errors. Generally, the specific errors must be placed above and more general ones below otherwise the following would happen:"
   ]
  },
  {
   "cell_type": "code",
   "execution_count": 20,
   "metadata": {},
   "outputs": [
    {
     "name": "stdout",
     "output_type": "stream",
     "text": [
      "Something went wrong.\n"
     ]
    }
   ],
   "source": [
    "try:\n",
    "    f = open('test_file.txt')\n",
    "    a = 1/0\n",
    "    print(b)\n",
    "except Exception:\n",
    "    print('Something went wrong.')\n",
    "except FileNotFoundError:\n",
    "    print('File not Found')\n",
    "except ZeroDivisionError:\n",
    "    print('No number can be divided by Zero.')"
   ]
  },
  {
   "cell_type": "markdown",
   "metadata": {},
   "source": [
    "We can also add an else clause to this try-except block to specify the code to be executed if none of the exceptions are raised. You can play with deleting entire except block and run try-else block but it will raise Syntax error specifying necessity of atleast one except block."
   ]
  },
  {
   "cell_type": "code",
   "execution_count": 24,
   "metadata": {},
   "outputs": [
    {
     "name": "stdout",
     "output_type": "stream",
     "text": [
      "Its all fine.\n"
     ]
    }
   ],
   "source": [
    "try:\n",
    "    f = open('test_file.txt')\n",
    "except:\n",
    "    print('Something seems problematic.')\n",
    "else:\n",
    "    print('Its all fine.')"
   ]
  },
  {
   "cell_type": "markdown",
   "metadata": {},
   "source": [
    "To keep program executing even error occurs, use 'finally' clause in the block, it is generally not much useful because the statements after the try-catch block are automatically executed."
   ]
  },
  {
   "cell_type": "code",
   "execution_count": 1,
   "metadata": {},
   "outputs": [
    {
     "name": "stdout",
     "output_type": "stream",
     "text": [
      "Something seems problematic.\n",
      "Python3 searched for the file mentioned.\n"
     ]
    }
   ],
   "source": [
    "try:\n",
    "    f = open('testfile.txt')\n",
    "except:\n",
    "    print('Something seems problematic.')\n",
    "else:\n",
    "    print('Its all fine.')\n",
    "finally:\n",
    "    print('Python3 searched for the file mentioned.')"
   ]
  },
  {
   "cell_type": "markdown",
   "metadata": {},
   "source": [
    "Till now, we saw the structure of the try-except-else-finally block and its executional fashion. Lets see how we can raise programmer-defined run-time execptions."
   ]
  },
  {
   "cell_type": "code",
   "execution_count": 7,
   "metadata": {},
   "outputs": [
    {
     "name": "stdout",
     "output_type": "stream",
     "text": [
      "a\n"
     ]
    },
    {
     "ename": "ValueError",
     "evalue": "invalid literal for int() with base 10: 'a'",
     "output_type": "error",
     "traceback": [
      "\u001b[0;31m---------------------------------------------------------------------------\u001b[0m",
      "\u001b[0;31mValueError\u001b[0m                                Traceback (most recent call last)",
      "\u001b[0;32m<ipython-input-7-ea1759575dd1>\u001b[0m in \u001b[0;36m<module>\u001b[0;34m\u001b[0m\n\u001b[0;32m----> 1\u001b[0;31m \u001b[0ma\u001b[0m \u001b[0;34m=\u001b[0m \u001b[0mint\u001b[0m\u001b[0;34m(\u001b[0m\u001b[0minput\u001b[0m\u001b[0;34m(\u001b[0m\u001b[0;34m)\u001b[0m\u001b[0;34m)\u001b[0m\u001b[0;34m\u001b[0m\u001b[0;34m\u001b[0m\u001b[0m\n\u001b[0m\u001b[1;32m      2\u001b[0m \u001b[0mb\u001b[0m \u001b[0;34m=\u001b[0m \u001b[0mint\u001b[0m\u001b[0;34m(\u001b[0m\u001b[0minput\u001b[0m\u001b[0;34m(\u001b[0m\u001b[0;34m)\u001b[0m\u001b[0;34m)\u001b[0m\u001b[0;34m\u001b[0m\u001b[0;34m\u001b[0m\u001b[0m\n\u001b[1;32m      3\u001b[0m \u001b[0;32mtry\u001b[0m\u001b[0;34m:\u001b[0m\u001b[0;34m\u001b[0m\u001b[0;34m\u001b[0m\u001b[0m\n\u001b[1;32m      4\u001b[0m     \u001b[0;32mif\u001b[0m\u001b[0;34m(\u001b[0m\u001b[0ma\u001b[0m \u001b[0;34m==\u001b[0m \u001b[0;36m0\u001b[0m \u001b[0;32mand\u001b[0m \u001b[0mb\u001b[0m \u001b[0;34m==\u001b[0m \u001b[0;36m0\u001b[0m\u001b[0;34m)\u001b[0m\u001b[0;34m:\u001b[0m\u001b[0;34m\u001b[0m\u001b[0;34m\u001b[0m\u001b[0m\n\u001b[1;32m      5\u001b[0m         \u001b[0;32mraise\u001b[0m \u001b[0mValueError\u001b[0m\u001b[0;34m\u001b[0m\u001b[0;34m\u001b[0m\u001b[0m\n",
      "\u001b[0;31mValueError\u001b[0m: invalid literal for int() with base 10: 'a'"
     ]
    }
   ],
   "source": [
    "a = int(input())\n",
    "b = int(input())\n",
    "try:\n",
    "    if(a == 0 and b == 0):\n",
    "        raise ValueError\n",
    "except:\n",
    "    print('0 raised to power of 0 is not allowed. Python3 give the answer as:')\n",
    "print(a ** b)"
   ]
  },
  {
   "cell_type": "markdown",
   "metadata": {},
   "source": [
    "The above code is about the famous unsolved mystery of 0^0 = ? where Python3 answers it as 1. We can raise a ValueError stating the incorrectness during run-time. By the way, above code is still imperfect we can improve it by handling some more exceptions."
   ]
  },
  {
   "cell_type": "code",
   "execution_count": 1,
   "metadata": {},
   "outputs": [
    {
     "name": "stdout",
     "output_type": "stream",
     "text": [
      "Enter first integer: \n",
      "0\n",
      "Enter second integer: \n",
      "0\n",
      "0 raised to power of 0 is not allowed. Python3 give the answer as:\n",
      "1\n"
     ]
    }
   ],
   "source": [
    "print('Enter first integer: ')\n",
    "a = 0.0\n",
    "while(type(a) != int):\n",
    "    try:\n",
    "        a = int(input())\n",
    "    except ValueError:\n",
    "        print('Re-enter an integer:')\n",
    "        continue\n",
    "    else:\n",
    "        break\n",
    "print('Enter second integer: ')\n",
    "b = 0.0\n",
    "while(type(b) != int):\n",
    "    try:\n",
    "        b = int(input())\n",
    "    except ValueError:\n",
    "        print('Re-enter an integer:')\n",
    "        continue\n",
    "    else:\n",
    "        break\n",
    "try:\n",
    "    if(a == 0 and b == 0):\n",
    "        raise ValueError\n",
    "except:\n",
    "    print('0 raised to power of 0 is not allowed. Python3 give the answer as:')\n",
    "print(a ** b)"
   ]
  },
  {
   "cell_type": "markdown",
   "metadata": {},
   "source": [
    "This is a perfect script for doing exponentiation operation. The try-except clause is very important for a programmer to check and solve various anomalies in Scripts."
   ]
  }
 ],
 "metadata": {
  "kernelspec": {
   "display_name": "Python 3",
   "language": "python",
   "name": "python3"
  },
  "language_info": {
   "codemirror_mode": {
    "name": "ipython",
    "version": 3
   },
   "file_extension": ".py",
   "mimetype": "text/x-python",
   "name": "python",
   "nbconvert_exporter": "python",
   "pygments_lexer": "ipython3",
   "version": "3.7.7"
  }
 },
 "nbformat": 4,
 "nbformat_minor": 4
}
